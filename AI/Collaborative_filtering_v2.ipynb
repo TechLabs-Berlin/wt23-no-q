{
  "nbformat": 4,
  "nbformat_minor": 0,
  "metadata": {
    "colab": {
      "provenance": []
    },
    "kernelspec": {
      "name": "python3",
      "display_name": "Python 3"
    },
    "language_info": {
      "name": "python"
    },
    "accelerator": "GPU",
    "gpuClass": "standard"
  },
  "cells": [
    {
      "cell_type": "code",
      "source": [
        "from fastai.tabular.all import *\n",
        "from fastai.collab import *\n",
        "from fastai.data.transforms import *\n",
        "import torch\n",
        "import numpy as np\n",
        "import pandas as pd\n",
        "from sklearn.model_selection import ParameterGrid\n",
        "from functools import partial"
      ],
      "metadata": {
        "id": "hhApJjoV1aUN"
      },
      "execution_count": null,
      "outputs": []
    },
    {
      "cell_type": "markdown",
      "source": [
        "Developing a recommendation system for a **NO-Q** app, we were focusing on two major scenarios: new users and users who have purchased and rated products in the past.\n",
        "For users who have purchased and rated products previously, we use their purchase history and ratings to generate personalized recommendations based on collaborative filtering."
      ],
      "metadata": {
        "id": "8S11sfSh6OBP"
      }
    },
    {
      "cell_type": "markdown",
      "source": [
        "**Data**\n",
        "\n",
        "In user-based filtering, the algorithm identifies users with similar preferences and recommends items that these users have previously enjoyed. To illustrate this approach, we generated a dataset containing 700 users and 441 items rated by users on a scale from 0 to 1 (like/dislike)\n",
        "\n",
        "The dataset is generated in such a way that some users rated many items while most rated only a few, with some items remaining unrated - a realistic representation of a typical data"
      ],
      "metadata": {
        "id": "QdMnj2Ip4F72"
      }
    },
    {
      "cell_type": "code",
      "source": [
        "#Load data\n",
        "df = pd.read_csv('User ratings.csv')\n",
        "cocktail_strings = df['title'].unique()"
      ],
      "metadata": {
        "id": "uI9bSIzJ1dfp"
      },
      "execution_count": null,
      "outputs": []
    },
    {
      "cell_type": "code",
      "source": [
        "# Create mapping of cocktail strings to integer IDs\n",
        "cocktail_id_map = {s: i for i, s in enumerate(cocktail_strings)}"
      ],
      "metadata": {
        "id": "-2rFa6CiHeDu"
      },
      "execution_count": null,
      "outputs": []
    },
    {
      "cell_type": "code",
      "source": [
        "# Replace cocktail strings with their IDs in the dataset\n",
        "df['cocktail'] = df['title'].map(cocktail_id_map)\n",
        "df = df[['user','cocktail','rating','title']]\n",
        "ratings = df"
      ],
      "metadata": {
        "id": "fASf8beSHflX"
      },
      "execution_count": null,
      "outputs": []
    },
    {
      "cell_type": "markdown",
      "source": [
        "**Optimization with grid search**\n",
        "\n",
        "The hyperparameters being varied here include learning rate ('lr'), weight decay ('wd'), number of factors ('n_factors'), batch size ('bs'), number of epochs ('epochs'), and number of layers in the neural network ('layers')"
      ],
      "metadata": {
        "id": "2wym0mQEI2tI"
      }
    },
    {
      "cell_type": "code",
      "source": [
        "# Define hyperparameter grid\n",
        "param_grid = {\n",
        "    'lr': [1e-3, 5e-3, 1e-2],\n",
        "    'wd': [0.01, 0.1, 0.2],\n",
        "    'n_factors': [20, 50, 100],\n",
        "    'bs': [32, 64, 128],\n",
        "    'epochs': [3, 5],\n",
        "    'layers': [\n",
        "        [100, 50],\n",
        "        [200, 100],\n",
        "        [110,100],\n",
        "    ]\n",
        "}"
      ],
      "metadata": {
        "id": "A2tHQ74YHhB-"
      },
      "execution_count": null,
      "outputs": []
    },
    {
      "cell_type": "code",
      "source": [
        "# Function to train model with given hyperparameters and return accuracy\n",
        "def train_model(ratings, param, seed=42):\n",
        "    torch.manual_seed(seed)\n",
        "    dls = CollabDataLoaders.from_df(ratings, item_name='title', bs=param['bs'])\n",
        "    learn = collab_learner(dls, n_factors=param['n_factors'], y_range=(0, 1.0), layers=param['layers'], loss_func=BCEWithLogitsLossFlat())\n",
        "    learn.fit_one_cycle(param['epochs'], param['lr'], wd=param['wd'])\n",
        "    \n",
        "    preds, targets = learn.get_preds()\n",
        "    mse = ((preds - targets)**2).mean()\n",
        "    return mse"
      ],
      "metadata": {
        "id": "5GMekRSIHjFV"
      },
      "execution_count": null,
      "outputs": []
    },
    {
      "cell_type": "markdown",
      "source": [
        "The grid search cell is commented out for better readability.\n",
        "\n",
        "\n",
        "**Best Parameters**: {'bs': 64, 'epochs': 5, 'layers': [200, 100], 'lr': 0.01, 'n_factors': 20, 'wd': 0.01}, Best MSE: 0.2578418552875519"
      ],
      "metadata": {
        "id": "LFRxzjPDF-Pw"
      }
    },
    {
      "cell_type": "code",
      "source": [
        "# Grid search\n",
        "#best_mse = 1\n",
        "#best_params = None\n",
        "#for param_set in ParameterGrid(param_grid):\n",
        "    #mse = train_model(ratings, param_set)\n",
        "    #print(f\"Parameters: {param_set}, MSE: {mse}\")\n",
        "    #if mse < best_mse:\n",
        "        #best_mse = mse\n",
        "        #best_params = param_set\n",
        "\n",
        "#print(f\"Best Parameters: {best_params}, Best MSE: {best_mse}\")"
      ],
      "metadata": {
        "id": "3DOOlFEuHlhk"
      },
      "execution_count": null,
      "outputs": []
    },
    {
      "cell_type": "markdown",
      "source": [
        "**The Mean Squared Error (MSE)** metric is commonly used in collaborative filtering to evaluate the accuracy of predicted ratings. It measures the average of the squared differences between the predicted and actual ratings for a set of users and items. An MSE value of 0 indicates a perfect match between the predicted and actual ratings, while higher values indicate larger prediction errors. An MSE value of around 0.25 is generally considered acceptable in collaborative filtering, as it indicates a reasonable level of accuracy in the predicted ratings. "
      ],
      "metadata": {
        "id": "fFoJRFquIcKh"
      }
    },
    {
      "cell_type": "code",
      "source": [
        "# Train the model with the best hyperparameters\n",
        "best_dls = CollabDataLoaders.from_df(ratings, item_name='title', bs=best_params['bs'])\n",
        "best_learn = collab_learner(best_dls, n_factors=best_params['n_factors'], layers = best_params['layers'], y_range=(0, 1.0), loss_func=BCEWithLogitsLossFlat())\n",
        "best_learn.fit_one_cycle(best_params['epochs'], best_params['lr'], wd=best_params['wd'])\n"
      ],
      "metadata": {
        "colab": {
          "base_uri": "https://localhost:8080/",
          "height": 206
        },
        "id": "fqszOKh3Hlol",
        "outputId": "75f7741e-227f-4222-cff7-e9a77a99be08"
      },
      "execution_count": null,
      "outputs": [
        {
          "output_type": "display_data",
          "data": {
            "text/plain": [
              "<IPython.core.display.HTML object>"
            ],
            "text/html": [
              "\n",
              "<style>\n",
              "    /* Turns off some styling */\n",
              "    progress {\n",
              "        /* gets rid of default border in Firefox and Opera. */\n",
              "        border: none;\n",
              "        /* Needs to be in here for Safari polyfill so background images work as expected. */\n",
              "        background-size: auto;\n",
              "    }\n",
              "    progress:not([value]), progress:not([value])::-webkit-progress-bar {\n",
              "        background: repeating-linear-gradient(45deg, #7e7e7e, #7e7e7e 10px, #5c5c5c 10px, #5c5c5c 20px);\n",
              "    }\n",
              "    .progress-bar-interrupted, .progress-bar-interrupted::-webkit-progress-bar {\n",
              "        background: #F44336;\n",
              "    }\n",
              "</style>\n"
            ]
          },
          "metadata": {}
        },
        {
          "output_type": "display_data",
          "data": {
            "text/plain": [
              "<IPython.core.display.HTML object>"
            ],
            "text/html": [
              "<table border=\"1\" class=\"dataframe\">\n",
              "  <thead>\n",
              "    <tr style=\"text-align: left;\">\n",
              "      <th>epoch</th>\n",
              "      <th>train_loss</th>\n",
              "      <th>valid_loss</th>\n",
              "      <th>time</th>\n",
              "    </tr>\n",
              "  </thead>\n",
              "  <tbody>\n",
              "    <tr>\n",
              "      <td>0</td>\n",
              "      <td>0.725572</td>\n",
              "      <td>0.719663</td>\n",
              "      <td>00:00</td>\n",
              "    </tr>\n",
              "    <tr>\n",
              "      <td>1</td>\n",
              "      <td>0.717802</td>\n",
              "      <td>0.716711</td>\n",
              "      <td>00:00</td>\n",
              "    </tr>\n",
              "    <tr>\n",
              "      <td>2</td>\n",
              "      <td>0.689785</td>\n",
              "      <td>0.715775</td>\n",
              "      <td>00:00</td>\n",
              "    </tr>\n",
              "    <tr>\n",
              "      <td>3</td>\n",
              "      <td>0.652152</td>\n",
              "      <td>0.715878</td>\n",
              "      <td>00:00</td>\n",
              "    </tr>\n",
              "    <tr>\n",
              "      <td>4</td>\n",
              "      <td>0.633382</td>\n",
              "      <td>0.716010</td>\n",
              "      <td>00:00</td>\n",
              "    </tr>\n",
              "  </tbody>\n",
              "</table>"
            ]
          },
          "metadata": {}
        }
      ]
    },
    {
      "cell_type": "code",
      "source": [
        "\n",
        "# Menu\n",
        "items_df = pd.DataFrame({'user': 10,\n",
        "                      'title': ['Bluebird', 'Boston Sour', 'Irish Spring', 'Zipperhead', 'ACID', 'Spritz', 'Kir Royale', 'Affair', 'Lord and Lady', 'Van Vleet']})  # positions on the menu\n"
      ],
      "metadata": {
        "id": "61PQxGFDO1eB"
      },
      "execution_count": null,
      "outputs": []
    },
    {
      "cell_type": "code",
      "source": [
        "\n",
        "# Learner to get predictions for the items (the probability of liking the item)\n",
        "preds, _ = best_learn.get_preds(dl=best_dls.test_dl(items_df))\n",
        "\n",
        "# Get the index of the item with the highest predicted probability\n",
        "most_likely_item_idx = np.argmax(preds)\n",
        "most_likely_item_idx = most_likely_item_idx.item()\n",
        "most_likely_item_title = items_df.loc[most_likely_item_idx, 'title']\n",
        "print(f\"Recommended for you: {most_likely_item_title}\")\n",
        "\n",
        "g = ratings.groupby('title')['rating'].count()\n",
        "top_cocktails = g.sort_values(ascending=False).index.values[:1000]\n",
        "top_cocktails[:10]\n",
        "\n",
        "cocktail_bias = best_learn.model.bias(top_cocktails, is_item=True)\n",
        "cocktail_bias.shape\n",
        "\n",
        "mean_ratings = ratings.groupby('title')['rating'].mean()\n",
        "cocktail_ratings = [(b, i, mean_ratings.loc[i]) for i, b in zip(top_cocktails, cocktail_bias)]\n",
        "\n",
        "item0 = lambda o: o[0]\n",
        "items_titles = items_df['title'].unique()\n",
        "\n",
        "# Filter cocktail_ratings to only include ratings for items on the menu\n",
        "filtered_cocktail_ratings = [(b, i, mean_ratings.loc[i]) for b, i, r in cocktail_ratings if i in items_titles]\n",
        "list = sorted(filtered_cocktail_ratings, key=lambda o: o[0], reverse=True)[0:1]\n",
        "print(f\"Top drink on the menu: {list[0][1]}\")"
      ],
      "metadata": {
        "colab": {
          "base_uri": "https://localhost:8080/",
          "height": 52
        },
        "id": "3vLtB1shO5a3",
        "outputId": "e1826b40-556f-4dfa-e193-119ca047605c"
      },
      "execution_count": null,
      "outputs": [
        {
          "output_type": "display_data",
          "data": {
            "text/plain": [
              "<IPython.core.display.HTML object>"
            ],
            "text/html": [
              "\n",
              "<style>\n",
              "    /* Turns off some styling */\n",
              "    progress {\n",
              "        /* gets rid of default border in Firefox and Opera. */\n",
              "        border: none;\n",
              "        /* Needs to be in here for Safari polyfill so background images work as expected. */\n",
              "        background-size: auto;\n",
              "    }\n",
              "    progress:not([value]), progress:not([value])::-webkit-progress-bar {\n",
              "        background: repeating-linear-gradient(45deg, #7e7e7e, #7e7e7e 10px, #5c5c5c 10px, #5c5c5c 20px);\n",
              "    }\n",
              "    .progress-bar-interrupted, .progress-bar-interrupted::-webkit-progress-bar {\n",
              "        background: #F44336;\n",
              "    }\n",
              "</style>\n"
            ]
          },
          "metadata": {}
        },
        {
          "output_type": "display_data",
          "data": {
            "text/plain": [
              "<IPython.core.display.HTML object>"
            ],
            "text/html": []
          },
          "metadata": {}
        },
        {
          "output_type": "stream",
          "name": "stdout",
          "text": [
            "Recommended for you: Irish Spring\n",
            "Top drink on the menu: Zipperhead\n"
          ]
        }
      ]
    }
  ]
}
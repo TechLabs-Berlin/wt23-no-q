{
  "nbformat": 4,
  "nbformat_minor": 0,
  "metadata": {
    "colab": {
      "provenance": []
    },
    "kernelspec": {
      "name": "python3",
      "display_name": "Python 3"
    },
    "language_info": {
      "name": "python"
    }
  },
  "cells": [
    {
      "cell_type": "code",
      "execution_count": 1,
      "metadata": {
        "id": "iKZAT2CgTOdS"
      },
      "outputs": [],
      "source": [
        "import requests\n",
        "import pandas as pd\n",
        "import string"
      ]
    },
    {
      "cell_type": "code",
      "source": [
        "def create_url_list():\n",
        "\n",
        "  url_list = []\n",
        "  main_url = 'https://www.thecocktaildb.com/api/json/v1/1/search.php?f='\n",
        "\n",
        "  #for i in (string.printable[:36]):\n",
        "  for i in (string.printable):\n",
        "\n",
        "    url_list.append(main_url+i)\n",
        "\n",
        "  return url_list"
      ],
      "metadata": {
        "id": "1006VA-nThDZ"
      },
      "execution_count": 2,
      "outputs": []
    },
    {
      "cell_type": "code",
      "source": [
        "url_list = create_url_list()"
      ],
      "metadata": {
        "id": "rl83OkceTi4x"
      },
      "execution_count": 3,
      "outputs": []
    },
    {
      "cell_type": "code",
      "source": [
        "def get_recipe(cocktail_dict):\n",
        "\n",
        "  ingredient = cocktail_dict['strIngredient1']\n",
        "  measure = cocktail_dict['strMeasure1']\n",
        "  i = 2\n",
        "\n",
        "  recipe = \"\"\n",
        "\n",
        "  while ingredient:\n",
        "\n",
        "    recipe = str(measure) + str(ingredient) + \", \" + recipe\n",
        "    ingredient = cocktail_dict['strIngredient'+str(i)]\n",
        "    measure = cocktail_dict['strMeasure'+str(i)]\n",
        "  \n",
        "    i = i+1\n",
        "\n",
        "  return recipe[:-2]"
      ],
      "metadata": {
        "id": "1R5fF_c0TnTu"
      },
      "execution_count": 4,
      "outputs": []
    },
    {
      "cell_type": "code",
      "source": [
        "def get_ingredients(cocktail_dict):\n",
        "\n",
        "  ingredient = cocktail_dict['strIngredient1']\n",
        "  i = 2\n",
        "\n",
        "  ingredient_list = \"\"\n",
        "\n",
        "  while ingredient:\n",
        "\n",
        "    ingredient_list = str(ingredient) + \", \" + ingredient_list\n",
        "    ingredient = cocktail_dict['strIngredient'+str(i)]\n",
        "    \n",
        "  \n",
        "    i = i+1\n",
        "\n",
        "  return ingredient_list[:-2]"
      ],
      "metadata": {
        "id": "w4H-3ngsTqd9"
      },
      "execution_count": 5,
      "outputs": []
    },
    {
      "cell_type": "code",
      "source": [
        "def get_measures(cocktail_dict):\n",
        "\n",
        "  measure = cocktail_dict['strMeasure1']\n",
        "  i = 2\n",
        "\n",
        "  measure_list = \"\"\n",
        "\n",
        "  while measure:\n",
        "\n",
        "    measure_list = str(measure) + \", \" + measure_list\n",
        "    measure = cocktail_dict['strMeasure'+str(i)]\n",
        "  \n",
        "    i = i+1\n",
        "\n",
        "\n",
        "  return measure_list[:-2]"
      ],
      "metadata": {
        "id": "2012yprSTtmF"
      },
      "execution_count": 6,
      "outputs": []
    },
    {
      "cell_type": "code",
      "source": [
        "cocktails_list = []\n",
        "\n",
        "for url in url_list:\n",
        "\n",
        "  try:\n",
        "\n",
        "\n",
        "    r = requests.get(url)\n",
        "\n",
        "\n",
        "    if r.json()['drinks']:\n",
        "\n",
        "      for cocktail_dict in r.json()['drinks']: \n",
        "\n",
        "        cocktail = {}\n",
        "        cocktail['Cocktail Name'] = cocktail_dict['strDrink']\n",
        "        cocktail['Recipe'] = get_recipe(cocktail_dict)\n",
        "       \n",
        "        cocktail['Ingredients'] = get_ingredients(cocktail_dict)\n",
        "        cocktail['Proportions'] = get_measures(cocktail_dict)\n",
        "       \n",
        "        cocktails_list.append(cocktail)\n",
        "  except:\n",
        "      pass\n"
      ],
      "metadata": {
        "id": "6cbaQYFgTyhC"
      },
      "execution_count": 7,
      "outputs": []
    },
    {
      "cell_type": "code",
      "source": [
        "cocktail_df = pd.DataFrame(cocktails_list)"
      ],
      "metadata": {
        "id": "-3Qe1U7oT1hu"
      },
      "execution_count": 8,
      "outputs": []
    },
    {
      "cell_type": "code",
      "source": [
        "cocktail_df.shape[0]"
      ],
      "metadata": {
        "colab": {
          "base_uri": "https://localhost:8080/"
        },
        "id": "Q_9YmAdkUCXw",
        "outputId": "309ad84a-10dd-444d-b967-6057b47added"
      },
      "execution_count": 9,
      "outputs": [
        {
          "output_type": "execute_result",
          "data": {
            "text/plain": [
              "916"
            ]
          },
          "metadata": {},
          "execution_count": 9
        }
      ]
    },
    {
      "cell_type": "code",
      "source": [
        "cocktail_df = cocktail_df.drop_duplicates(subset = [\"Cocktail Name\"], keep = 'first')"
      ],
      "metadata": {
        "id": "WimSuvgcUDVD"
      },
      "execution_count": 10,
      "outputs": []
    },
    {
      "cell_type": "code",
      "source": [
        "cocktail_df.shape[0]"
      ],
      "metadata": {
        "colab": {
          "base_uri": "https://localhost:8080/"
        },
        "id": "PlebtQ2LUGnZ",
        "outputId": "67227620-a836-4ac1-8a9b-6e6118e52af4"
      },
      "execution_count": 11,
      "outputs": [
        {
          "output_type": "execute_result",
          "data": {
            "text/plain": [
              "441"
            ]
          },
          "metadata": {},
          "execution_count": 11
        }
      ]
    },
    {
      "cell_type": "code",
      "source": [
        "cocktail_df.to_csv('CocktailDB.csv', sep='\\t')"
      ],
      "metadata": {
        "id": "_S5Mov8mUhw8"
      },
      "execution_count": 12,
      "outputs": []
    }
  ]
}